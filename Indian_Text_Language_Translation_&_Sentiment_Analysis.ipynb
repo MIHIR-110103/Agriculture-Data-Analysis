{
  "nbformat": 4,
  "nbformat_minor": 0,
  "metadata": {
    "colab": {
      "provenance": [],
      "authorship_tag": "ABX9TyPY8fUfoUEW7rJ7mxZK99JG",
      "include_colab_link": true
    },
    "kernelspec": {
      "name": "python3",
      "display_name": "Python 3"
    },
    "language_info": {
      "name": "python"
    }
  },
  "cells": [
    {
      "cell_type": "markdown",
      "metadata": {
        "id": "view-in-github",
        "colab_type": "text"
      },
      "source": [
        "<a href=\"https://colab.research.google.com/github/MIHIR-110103/Agriculture-Data-Analysis/blob/main/Indian_Text_Language_Translation_%26_Sentiment_Analysis.ipynb\" target=\"_parent\"><img src=\"https://colab.research.google.com/assets/colab-badge.svg\" alt=\"Open In Colab\"/></a>"
      ]
    },
    {
      "cell_type": "markdown",
      "source": [
        "# Working"
      ],
      "metadata": {
        "id": "EOmK15BdSdaz"
      }
    },
    {
      "cell_type": "code",
      "source": [
        "!pip install deep-translator"
      ],
      "metadata": {
        "colab": {
          "base_uri": "https://localhost:8080/"
        },
        "id": "_SkhhykuSvxI",
        "outputId": "18708087-9b14-4397-f6ce-87243b0f1b10"
      },
      "execution_count": null,
      "outputs": [
        {
          "output_type": "stream",
          "name": "stdout",
          "text": [
            "Collecting deep-translator\n",
            "  Downloading deep_translator-1.11.4-py3-none-any.whl (42 kB)\n",
            "\u001b[2K     \u001b[90m━━━━━━━━━━━━━━━━━━━━━━━━━━━━━━━━━━━━━━━━\u001b[0m \u001b[32m42.3/42.3 kB\u001b[0m \u001b[31m1.1 MB/s\u001b[0m eta \u001b[36m0:00:00\u001b[0m\n",
            "\u001b[?25hRequirement already satisfied: beautifulsoup4<5.0.0,>=4.9.1 in /usr/local/lib/python3.10/dist-packages (from deep-translator) (4.11.2)\n",
            "Requirement already satisfied: requests<3.0.0,>=2.23.0 in /usr/local/lib/python3.10/dist-packages (from deep-translator) (2.31.0)\n",
            "Requirement already satisfied: soupsieve>1.2 in /usr/local/lib/python3.10/dist-packages (from beautifulsoup4<5.0.0,>=4.9.1->deep-translator) (2.5)\n",
            "Requirement already satisfied: charset-normalizer<4,>=2 in /usr/local/lib/python3.10/dist-packages (from requests<3.0.0,>=2.23.0->deep-translator) (3.2.0)\n",
            "Requirement already satisfied: idna<4,>=2.5 in /usr/local/lib/python3.10/dist-packages (from requests<3.0.0,>=2.23.0->deep-translator) (3.4)\n",
            "Requirement already satisfied: urllib3<3,>=1.21.1 in /usr/local/lib/python3.10/dist-packages (from requests<3.0.0,>=2.23.0->deep-translator) (2.0.4)\n",
            "Requirement already satisfied: certifi>=2017.4.17 in /usr/local/lib/python3.10/dist-packages (from requests<3.0.0,>=2.23.0->deep-translator) (2023.7.22)\n",
            "Installing collected packages: deep-translator\n",
            "Successfully installed deep-translator-1.11.4\n"
          ]
        }
      ]
    },
    {
      "cell_type": "code",
      "source": [
        "!pip install vaderSentiment\n"
      ],
      "metadata": {
        "colab": {
          "base_uri": "https://localhost:8080/"
        },
        "id": "UseGMUeAUYzr",
        "outputId": "983b5344-66da-44f9-f93d-0fb96b6f234f"
      },
      "execution_count": null,
      "outputs": [
        {
          "output_type": "stream",
          "name": "stdout",
          "text": [
            "Collecting vaderSentiment\n",
            "  Downloading vaderSentiment-3.3.2-py2.py3-none-any.whl (125 kB)\n",
            "\u001b[?25l     \u001b[90m━━━━━━━━━━━━━━━━━━━━━━━━━━━━━━━━━━━━━━━━\u001b[0m \u001b[32m0.0/126.0 kB\u001b[0m \u001b[31m?\u001b[0m eta \u001b[36m-:--:--\u001b[0m\r\u001b[2K     \u001b[91m━━━━━━━━━━━━━━━━━━━━━━\u001b[0m\u001b[91m╸\u001b[0m\u001b[90m━━━━━━━━━━━━━━━━━\u001b[0m \u001b[32m71.7/126.0 kB\u001b[0m \u001b[31m2.0 MB/s\u001b[0m eta \u001b[36m0:00:01\u001b[0m\r\u001b[2K     \u001b[90m━━━━━━━━━━━━━━━━━━━━━━━━━━━━━━━━━━━━━━━\u001b[0m \u001b[32m126.0/126.0 kB\u001b[0m \u001b[31m2.4 MB/s\u001b[0m eta \u001b[36m0:00:00\u001b[0m\n",
            "\u001b[?25hRequirement already satisfied: requests in /usr/local/lib/python3.10/dist-packages (from vaderSentiment) (2.31.0)\n",
            "Requirement already satisfied: charset-normalizer<4,>=2 in /usr/local/lib/python3.10/dist-packages (from requests->vaderSentiment) (3.2.0)\n",
            "Requirement already satisfied: idna<4,>=2.5 in /usr/local/lib/python3.10/dist-packages (from requests->vaderSentiment) (3.4)\n",
            "Requirement already satisfied: urllib3<3,>=1.21.1 in /usr/local/lib/python3.10/dist-packages (from requests->vaderSentiment) (2.0.4)\n",
            "Requirement already satisfied: certifi>=2017.4.17 in /usr/local/lib/python3.10/dist-packages (from requests->vaderSentiment) (2023.7.22)\n",
            "Installing collected packages: vaderSentiment\n",
            "Successfully installed vaderSentiment-3.3.2\n"
          ]
        }
      ]
    },
    {
      "cell_type": "code",
      "source": [
        "# codecs provides access to the internal Python codec registry\n",
        "import codecs\n",
        "\n",
        "# This is to translate the text from Hindi to English\n",
        "from deep_translator import GoogleTranslator\n",
        "\n",
        "# This is to analyse the sentiment of text\n",
        "from vaderSentiment.vaderSentiment import SentimentIntensityAnalyzer\n"
      ],
      "metadata": {
        "id": "PMsRR4aW9Ote"
      },
      "execution_count": null,
      "outputs": []
    },
    {
      "cell_type": "code",
      "source": [
        "# Read the hindi text into 'sentences'\n",
        "with codecs.open('Hindi.txt', encoding='utf-8') as f:\n",
        "\tsentences = f.readlines()\n"
      ],
      "metadata": {
        "id": "Ub5MudUCSiWA"
      },
      "execution_count": null,
      "outputs": []
    },
    {
      "cell_type": "code",
      "source": [
        "sentences"
      ],
      "metadata": {
        "colab": {
          "base_uri": "https://localhost:8080/"
        },
        "id": "zoIK6piaTdvm",
        "outputId": "b890704e-5cab-44d6-a225-c455b16a7517"
      },
      "execution_count": null,
      "outputs": [
        {
          "output_type": "execute_result",
          "data": {
            "text/plain": [
              "['સ્વ. અ.સૌ. ગીતા વિજય દેસાઈ\\r\\n',\n",
              " '\\r\\n',\n",
              " 'તા. ૮/૯/૨૦૨૩, શુક્રવાર (ઉ.વર્ષ ૪૫) (ગામ : જામ બરવાળા )\\r\\n',\n",
              " '\\r\\n',\n",
              " '“8 *૦૬૦- છં\\r\\n',\n",
              " '\\r\\n',\n",
              " 'દિલગીરી સાથે જણાવાનુ છે કે અમારા પત્ની સ્વ. અ.સૌ. ગીતા વિજય દેસાઈ સ્વર્ગવાસ પામેલ છે. તેમનું સદ્ગતનું બેસણું તા. ૧૦/૯/૨૦૨૩, રવિવાર સવારે ૯:૩૦ થી ૧૧:૩૦ નીચેનાં સ્થળે રાખેલ છે.\\r\\n',\n",
              " '\\r\\n',\n",
              " 'ન 99 * ૭/૦: કલ\\r\\n',\n",
              " '\\r\\n',\n",
              " 'ચંદન જેમ જીવન જીવી ખુદ ઘસાઈ સહુને સુખ આપી ગયા, અમ કાજે સૌરભ થઇ પ્રસરી ગયા. જીવન એવું જીવી ગયા કે કદી ભુલાય નહીં. પ્રભુ આપના દિવ્ય આત્માને શાંતિ અર્પે અંતઃકરણપૂર્વક પ્રાર્થના.\\r\\n',\n",
              " '\\r\\n',\n",
              " 'તિ. «૭20 ક\\r\\n',\n",
              " '\\r\\n',\n",
              " 'વિજય દેસાઈ સુકન સ્કાય, ડી-વીંગ, ઉર્જા નગર નંબર - ૧, મો. : ૯૮૧૯૮૫૯૯૬૧ કુડાસન, સીટી પ્લસ સીનેમા હોલ ની બાજુમાં, ગાંધીનગર,\\xa0ગુજરાત']"
            ]
          },
          "metadata": {},
          "execution_count": 21
        }
      ]
    },
    {
      "cell_type": "code",
      "source": [
        "# Remove '\\r\\n' from each sentence\n",
        "cleaned_text = [sentence.replace('\\r\\n',\"\") for sentence in sentences]"
      ],
      "metadata": {
        "id": "MA9icISPWQVL"
      },
      "execution_count": null,
      "outputs": []
    },
    {
      "cell_type": "code",
      "source": [
        "while(\"\" in cleaned_text):\n",
        "    cleaned_text.remove(\"\")"
      ],
      "metadata": {
        "id": "zsxm_obzRINu"
      },
      "execution_count": null,
      "outputs": []
    },
    {
      "cell_type": "code",
      "source": [
        "cleaned_text"
      ],
      "metadata": {
        "colab": {
          "base_uri": "https://localhost:8080/"
        },
        "id": "2SCna21rZ7gJ",
        "outputId": "6b9df660-9a42-409a-a1df-f7b764778d35"
      },
      "execution_count": null,
      "outputs": [
        {
          "output_type": "execute_result",
          "data": {
            "text/plain": [
              "['સ્વ. અ.સૌ. ગીતા વિજય દેસાઈ',\n",
              " 'તા. ૮/૯/૨૦૨૩, શુક્રવાર (ઉ.વર્ષ ૪૫) (ગામ : જામ બરવાળા )',\n",
              " '“8 *૦૬૦- છં',\n",
              " 'દિલગીરી સાથે જણાવાનુ છે કે અમારા પત્ની સ્વ. અ.સૌ. ગીતા વિજય દેસાઈ સ્વર્ગવાસ પામેલ છે. તેમનું સદ્ગતનું બેસણું તા. ૧૦/૯/૨૦૨૩, રવિવાર સવારે ૯:૩૦ થી ૧૧:૩૦ નીચેનાં સ્થળે રાખેલ છે.',\n",
              " 'ન 99 * ૭/૦: કલ',\n",
              " 'ચંદન જેમ જીવન જીવી ખુદ ઘસાઈ સહુને સુખ આપી ગયા, અમ કાજે સૌરભ થઇ પ્રસરી ગયા. જીવન એવું જીવી ગયા કે કદી ભુલાય નહીં. પ્રભુ આપના દિવ્ય આત્માને શાંતિ અર્પે અંતઃકરણપૂર્વક પ્રાર્થના.',\n",
              " 'તિ. «૭20 ક',\n",
              " 'વિજય દેસાઈ સુકન સ્કાય, ડી-વીંગ, ઉર્જા નગર નંબર - ૧, મો. : ૯૮૧૯૮૫૯૯૬૧ કુડાસન, સીટી પ્લસ સીનેમા હોલ ની બાજુમાં, ગાંધીનગર,\\xa0ગુજરાત']"
            ]
          },
          "metadata": {},
          "execution_count": 11
        }
      ]
    },
    {
      "cell_type": "code",
      "source": [
        "type(cleaned_text)"
      ],
      "metadata": {
        "colab": {
          "base_uri": "https://localhost:8080/"
        },
        "id": "LqRqJ_48WaT0",
        "outputId": "8ed0730d-f94b-4529-fb6e-d30c06d4066a"
      },
      "execution_count": null,
      "outputs": [
        {
          "output_type": "execute_result",
          "data": {
            "text/plain": [
              "list"
            ]
          },
          "metadata": {},
          "execution_count": 12
        }
      ]
    },
    {
      "cell_type": "markdown",
      "source": [
        "### First Approach - Individual Sentence Sentiment Analysis"
      ],
      "metadata": {
        "id": "pntV1I_0YEOg"
      }
    },
    {
      "cell_type": "code",
      "source": [
        "for sentence in cleaned_text:\n",
        "\ttranslated_text = GoogleTranslator(source='auto', target='en').translate(sentence)\n",
        "\t#print(translated_text)\n",
        "\tanalyzer = SentimentIntensityAnalyzer()\n",
        "\tsentiment_dict = analyzer.polarity_scores(translated_text)\n",
        "\n",
        "\tprint(\"\\nTranslated Sentence=\",translated_text, \"\\nDictionary=\",sentiment_dict)\n",
        "\tif sentiment_dict['compound'] >= 0.05 :\n",
        "\t\t\tprint(\"positive\")\n",
        "\n",
        "\telif sentiment_dict['compound'] <= - 0.05 :\n",
        "\t\t\tprint(\"negative\")\n",
        "\telse :\n",
        "\t\tprint(\"neutral\")\n"
      ],
      "metadata": {
        "colab": {
          "base_uri": "https://localhost:8080/"
        },
        "id": "lWDaGnElXGGl",
        "outputId": "50cc273f-03db-4d1a-8f38-86f3afa57eea"
      },
      "execution_count": null,
      "outputs": [
        {
          "output_type": "stream",
          "name": "stdout",
          "text": [
            "\n",
            "Translated Sentence= self A. Sou. Geeta Vijay Desai \n",
            "Dictionary= {'neg': 0.0, 'neu': 1.0, 'pos': 0.0, 'compound': 0.0}\n",
            "neutral\n",
            "\n",
            "Translated Sentence= Dt. 8/9/2023, Friday (Year 45) (Village : Jam Barwala) \n",
            "Dictionary= {'neg': 0.0, 'neu': 1.0, 'pos': 0.0, 'compound': 0.0}\n",
            "neutral\n",
            "\n",
            "Translated Sentence= \"8 *060- Ch \n",
            "Dictionary= {'neg': 0.0, 'neu': 1.0, 'pos': 0.0, 'compound': 0.0}\n",
            "neutral\n",
            "\n",
            "Translated Sentence= It is with regret that our wife Sh. A. Sou. Geeta Vijay Desai has passed away. His obituary date. 10/9/2023, Sunday 9:30 am to 11:30 am held at the following venue. \n",
            "Dictionary= {'neg': 0.085, 'neu': 0.915, 'pos': 0.0, 'compound': -0.4215}\n",
            "negative\n",
            "\n",
            "Translated Sentence= No. 99 * 7/0: Kal \n",
            "Dictionary= {'neg': 0.0, 'neu': 1.0, 'pos': 0.0, 'compound': 0.0}\n",
            "neutral\n",
            "\n",
            "Translated Sentence= Just as sandalwood lived its life and gave happiness to others, Um Kaje spread as beauty. A life lived never to be forgotten. Heartfelt prayer that Lord may your divine soul rest in peace. \n",
            "Dictionary= {'neg': 0.0, 'neu': 0.587, 'pos': 0.413, 'compound': 0.9621}\n",
            "positive\n",
            "\n",
            "Translated Sentence= T. «720 k \n",
            "Dictionary= {'neg': 0.0, 'neu': 1.0, 'pos': 0.0, 'compound': 0.0}\n",
            "neutral\n",
            "\n",
            "Translated Sentence= Vijay Desai Sukan Sky, D-Wing, Urja Nagar No - 1, Md. : 9819859961 Kudasan, Beside CT Plus Cinema Hall, Gandhinagar, Gujarat \n",
            "Dictionary= {'neg': 0.099, 'neu': 0.901, 'pos': 0.0, 'compound': -0.296}\n",
            "negative\n"
          ]
        }
      ]
    },
    {
      "cell_type": "markdown",
      "source": [
        "### Second Approach - Combined Sentence Sentiment Analysis"
      ],
      "metadata": {
        "id": "2iU9IUZKaKvw"
      }
    },
    {
      "cell_type": "code",
      "source": [],
      "metadata": {
        "id": "xFv2bLIMzNc3"
      },
      "execution_count": null,
      "outputs": []
    }
  ]
}